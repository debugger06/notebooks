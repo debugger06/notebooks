{
 "cells": [
  {
   "cell_type": "code",
   "execution_count": 1,
   "metadata": {},
   "outputs": [],
   "source": [
    "import pymc3 as pm\n",
    "import numpy as np\n",
    "import matplotlib.pyplot as plt\n",
    "%matplotlib inline"
   ]
  },
  {
   "cell_type": "code",
   "execution_count": 4,
   "metadata": {},
   "outputs": [],
   "source": [
    "import pandas as pd"
   ]
  },
  {
   "cell_type": "code",
   "execution_count": 5,
   "metadata": {},
   "outputs": [
    {
     "data": {
      "text/html": [
       "<div>\n",
       "<style scoped>\n",
       "    .dataframe tbody tr th:only-of-type {\n",
       "        vertical-align: middle;\n",
       "    }\n",
       "\n",
       "    .dataframe tbody tr th {\n",
       "        vertical-align: top;\n",
       "    }\n",
       "\n",
       "    .dataframe thead th {\n",
       "        text-align: right;\n",
       "    }\n",
       "</style>\n",
       "<table border=\"1\" class=\"dataframe\">\n",
       "  <thead>\n",
       "    <tr style=\"text-align: right;\">\n",
       "      <th></th>\n",
       "      <th>customer_id</th>\n",
       "      <th>customer_index</th>\n",
       "      <th>date</th>\n",
       "      <th>quantity</th>\n",
       "      <th>amount</th>\n",
       "    </tr>\n",
       "  </thead>\n",
       "  <tbody>\n",
       "    <tr>\n",
       "      <th>0</th>\n",
       "      <td>4</td>\n",
       "      <td>1</td>\n",
       "      <td>1997-01-01</td>\n",
       "      <td>2</td>\n",
       "      <td>29.33</td>\n",
       "    </tr>\n",
       "    <tr>\n",
       "      <th>1</th>\n",
       "      <td>4</td>\n",
       "      <td>1</td>\n",
       "      <td>1997-01-18</td>\n",
       "      <td>2</td>\n",
       "      <td>29.73</td>\n",
       "    </tr>\n",
       "    <tr>\n",
       "      <th>2</th>\n",
       "      <td>4</td>\n",
       "      <td>1</td>\n",
       "      <td>1997-08-02</td>\n",
       "      <td>1</td>\n",
       "      <td>14.96</td>\n",
       "    </tr>\n",
       "    <tr>\n",
       "      <th>3</th>\n",
       "      <td>4</td>\n",
       "      <td>1</td>\n",
       "      <td>1997-12-12</td>\n",
       "      <td>2</td>\n",
       "      <td>26.48</td>\n",
       "    </tr>\n",
       "    <tr>\n",
       "      <th>4</th>\n",
       "      <td>21</td>\n",
       "      <td>2</td>\n",
       "      <td>1997-01-01</td>\n",
       "      <td>3</td>\n",
       "      <td>63.34</td>\n",
       "    </tr>\n",
       "  </tbody>\n",
       "</table>\n",
       "</div>"
      ],
      "text/plain": [
       "   customer_id  customer_index       date  quantity  amount\n",
       "0            4               1 1997-01-01         2   29.33\n",
       "1            4               1 1997-01-18         2   29.73\n",
       "2            4               1 1997-08-02         1   14.96\n",
       "3            4               1 1997-12-12         2   26.48\n",
       "4           21               2 1997-01-01         3   63.34"
      ]
     },
     "execution_count": 5,
     "metadata": {},
     "output_type": "execute_result"
    }
   ],
   "source": [
    "from lifetimes.datasets import load_dataset\n",
    "\n",
    "cdnow_transactions = load_dataset(\n",
    "    'CDNOW_sample.txt', \n",
    "    header=None, \n",
    "    delim_whitespace=True, \n",
    "    names=['customer_id', 'customer_index', 'date', 'quantity', 'amount'],\n",
    "    converters={'date': lambda x: pd.to_datetime(x, format=\"%Y%m%d\")}\n",
    ")\n",
    "\n",
    "cdnow_transactions.head()"
   ]
  },
  {
   "cell_type": "code",
   "execution_count": 7,
   "metadata": {},
   "outputs": [],
   "source": [
    "import lifetimes"
   ]
  },
  {
   "cell_type": "code",
   "execution_count": 8,
   "metadata": {},
   "outputs": [
    {
     "data": {
      "text/html": [
       "<div>\n",
       "<style scoped>\n",
       "    .dataframe tbody tr th:only-of-type {\n",
       "        vertical-align: middle;\n",
       "    }\n",
       "\n",
       "    .dataframe tbody tr th {\n",
       "        vertical-align: top;\n",
       "    }\n",
       "\n",
       "    .dataframe thead th {\n",
       "        text-align: right;\n",
       "    }\n",
       "</style>\n",
       "<table border=\"1\" class=\"dataframe\">\n",
       "  <thead>\n",
       "    <tr style=\"text-align: right;\">\n",
       "      <th></th>\n",
       "      <th>frequency</th>\n",
       "      <th>recency</th>\n",
       "      <th>T</th>\n",
       "    </tr>\n",
       "    <tr>\n",
       "      <th>customer_id</th>\n",
       "      <th></th>\n",
       "      <th></th>\n",
       "      <th></th>\n",
       "    </tr>\n",
       "  </thead>\n",
       "  <tbody>\n",
       "    <tr>\n",
       "      <th>4</th>\n",
       "      <td>2.0</td>\n",
       "      <td>30.0</td>\n",
       "      <td>39.0</td>\n",
       "    </tr>\n",
       "    <tr>\n",
       "      <th>18</th>\n",
       "      <td>0.0</td>\n",
       "      <td>0.0</td>\n",
       "      <td>39.0</td>\n",
       "    </tr>\n",
       "    <tr>\n",
       "      <th>21</th>\n",
       "      <td>1.0</td>\n",
       "      <td>2.0</td>\n",
       "      <td>39.0</td>\n",
       "    </tr>\n",
       "    <tr>\n",
       "      <th>50</th>\n",
       "      <td>0.0</td>\n",
       "      <td>0.0</td>\n",
       "      <td>39.0</td>\n",
       "    </tr>\n",
       "    <tr>\n",
       "      <th>60</th>\n",
       "      <td>0.0</td>\n",
       "      <td>0.0</td>\n",
       "      <td>35.0</td>\n",
       "    </tr>\n",
       "  </tbody>\n",
       "</table>\n",
       "</div>"
      ],
      "text/plain": [
       "             frequency  recency     T\n",
       "customer_id                          \n",
       "4                  2.0     30.0  39.0\n",
       "18                 0.0      0.0  39.0\n",
       "21                 1.0      2.0  39.0\n",
       "50                 0.0      0.0  39.0\n",
       "60                 0.0      0.0  35.0"
      ]
     },
     "execution_count": 8,
     "metadata": {},
     "output_type": "execute_result"
    }
   ],
   "source": [
    "# lifetimes provides a transaction log -> rfm util function\n",
    "rfm = lifetimes.utils.summary_data_from_transaction_data(\n",
    "    cdnow_transactions,\n",
    "    'customer_id',\n",
    "    'date',\n",
    "    observation_period_end=pd.to_datetime('1997-09-30'),\n",
    "    freq='W'\n",
    ")\n",
    "\n",
    "rfm.head()"
   ]
  },
  {
   "cell_type": "code",
   "execution_count": 11,
   "metadata": {},
   "outputs": [],
   "source": [
    "from pymc3.math import exp, log\n",
    "\n",
    "class ParetoNBD(pm.Continuous):\n",
    "    \"\"\"\n",
    "    Custom distribution class for Pareto/NBD likelihood.\n",
    "    \"\"\"\n",
    "    \n",
    "    def __init__(self, lambda_, mu, *args, **kwargs):\n",
    "        super(ParetoNBD, self).__init__(*args, **kwargs)\n",
    "        self.lambda_ = lambda_\n",
    "        self.mu = mu\n",
    "        \n",
    "    def logp(self, x, t_x, T):\n",
    "        \"\"\"\n",
    "        Loglikelihood function for and indvidual customer's purchasing rate \\lambda\n",
    "        and lifetime \\mu given their frequency, recency and time since first purchase.\n",
    "        \"\"\"\n",
    "        \n",
    "        log_lambda = log(self.lambda_)\n",
    "        log_mu = log(self.mu)\n",
    "        mu_plus_lambda = self.lambda_ + self.mu\n",
    "        log_mu_plus_lambda = log(mu_plus_lambda)\n",
    "        \n",
    "        p_1 = x * log_lambda + log_mu - log_mu_plus_lambda - t_x * mu_plus_lambda\n",
    "        p_2 = (x + 1) * log_lambda - log_mu_plus_lambda - T * mu_plus_lambda\n",
    "        \n",
    "        return log(exp(p_1) + exp(p_2))"
   ]
  },
  {
   "cell_type": "code",
   "execution_count": 12,
   "metadata": {},
   "outputs": [],
   "source": [
    "\n",
    "# Extract data for model following notation from Fader/Hardie\n",
    "N = rfm.shape[0] # number of customers\n",
    "x = rfm['frequency'].values\n",
    "t_x = rfm['recency'].values\n",
    "T = rfm['T'].values # length of training period"
   ]
  },
  {
   "cell_type": "code",
   "execution_count": 18,
   "metadata": {},
   "outputs": [],
   "source": []
  },
  {
   "cell_type": "code",
   "execution_count": null,
   "metadata": {},
   "outputs": [
    {
     "name": "stderr",
     "output_type": "stream",
     "text": [
      "Multiprocess sampling (4 chains in 4 jobs)\n",
      "NUTS: [mu, lambda, beta, s, alpha, r]\n",
      "Sampling 4 chains:   1%|          | 117/10000 [06:16<8:46:52,  3.20s/draws] "
     ]
    }
   ],
   "source": [
    "n_draws = 2000\n",
    "\n",
    "pnbd_model = pm.Model()\n",
    "with pnbd_model:\n",
    "    \n",
    "    # Uninformative priors on model hyperparameters see Polson and Scott \n",
    "    # https://projecteuclid.org/download/pdfview_1/euclid.ba/1354024466\n",
    "    r = pm.HalfCauchy('r', beta=2)\n",
    "    alpha = pm.HalfCauchy('alpha', beta=2)\n",
    "    s = pm.HalfCauchy('s', beta=2)\n",
    "    beta = pm.HalfCauchy('beta', beta=2)\n",
    "    \n",
    "    # Gamma prior on purchasing rate parameter lambda\n",
    "    lambda_ = pm.Gamma('lambda', alpha=r, beta=alpha, shape=N, testval=np.random.rand(N))\n",
    "    # Gamma prior on lifetime parameter mu\n",
    "    mu = pm.Gamma('mu', alpha=s, beta=beta, shape=N, testval=np.random.rand(N))\n",
    "\n",
    "    # Custom distribution for Pareto-NBD likelihood function\n",
    "    loglikelihood = ParetoNBD(\"loglikelihood\", mu=mu, lambda_=lambda_, observed={'x': x, 't_x': t_x, 'T': T})\n",
    "    \n",
    "    # Sample the model\n",
    "    trace = pm.sample(n_draws, init=None)"
   ]
  },
  {
   "cell_type": "code",
   "execution_count": null,
   "metadata": {},
   "outputs": [],
   "source": [
    "_ = pm.traceplot(trace, varnames=['r','alpha','s','beta'])"
   ]
  }
 ],
 "metadata": {
  "kernelspec": {
   "display_name": "Python 3",
   "language": "python",
   "name": "python3"
  },
  "language_info": {
   "codemirror_mode": {
    "name": "ipython",
    "version": 3
   },
   "file_extension": ".py",
   "mimetype": "text/x-python",
   "name": "python",
   "nbconvert_exporter": "python",
   "pygments_lexer": "ipython3",
   "version": "3.6.6"
  }
 },
 "nbformat": 4,
 "nbformat_minor": 2
}
